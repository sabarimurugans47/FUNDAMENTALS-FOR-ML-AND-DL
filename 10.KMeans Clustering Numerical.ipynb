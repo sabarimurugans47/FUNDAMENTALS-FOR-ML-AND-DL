{
  "nbformat": 4,
  "nbformat_minor": 0,
  "metadata": {
    "colab": {
      "provenance": []
    },
    "kernelspec": {
      "name": "python3",
      "display_name": "Python 3"
    },
    "language_info": {
      "name": "python"
    }
  },
  "cells": [
    {
      "cell_type": "markdown",
      "source": [
        "# **1.Import necessary libraries**"
      ],
      "metadata": {
        "id": "Cr_jG7Qnus1o"
      }
    },
    {
      "cell_type": "code",
      "execution_count": 1,
      "metadata": {
        "id": "LKYJLfmfpWuV"
      },
      "outputs": [],
      "source": [
        "import pandas as pd\n",
        "import numpy as np"
      ]
    },
    {
      "cell_type": "markdown",
      "source": [
        "# **2.Create a DataFrame**"
      ],
      "metadata": {
        "id": "uHzOJ9lwuy9-"
      }
    },
    {
      "cell_type": "code",
      "source": [
        "data=pd.DataFrame({\n",
        "    'x1':[2,4,6,8,10],\n",
        "    'x2':[12,14,16,18,20],\n",
        "    'x3':[22,24,26,28,30]\n",
        "})\n",
        "index=['Sample A','Sample B','Sample C','Sample D','Sample E']\n",
        "data.index=index"
      ],
      "metadata": {
        "id": "2fTeaJwVuTLB"
      },
      "execution_count": 2,
      "outputs": []
    },
    {
      "cell_type": "code",
      "source": [
        "data"
      ],
      "metadata": {
        "colab": {
          "base_uri": "https://localhost:8080/",
          "height": 206
        },
        "id": "UHDQnHqtp1fV",
        "outputId": "4b1f05c8-9524-42e1-e589-6d36ae786584"
      },
      "execution_count": 3,
      "outputs": [
        {
          "output_type": "execute_result",
          "data": {
            "text/plain": [
              "          x1  x2  x3\n",
              "Sample A   2  12  22\n",
              "Sample B   4  14  24\n",
              "Sample C   6  16  26\n",
              "Sample D   8  18  28\n",
              "Sample E  10  20  30"
            ],
            "text/html": [
              "\n",
              "  <div id=\"df-d188ca00-c779-43d9-84bd-eb5f848ce23c\" class=\"colab-df-container\">\n",
              "    <div>\n",
              "<style scoped>\n",
              "    .dataframe tbody tr th:only-of-type {\n",
              "        vertical-align: middle;\n",
              "    }\n",
              "\n",
              "    .dataframe tbody tr th {\n",
              "        vertical-align: top;\n",
              "    }\n",
              "\n",
              "    .dataframe thead th {\n",
              "        text-align: right;\n",
              "    }\n",
              "</style>\n",
              "<table border=\"1\" class=\"dataframe\">\n",
              "  <thead>\n",
              "    <tr style=\"text-align: right;\">\n",
              "      <th></th>\n",
              "      <th>x1</th>\n",
              "      <th>x2</th>\n",
              "      <th>x3</th>\n",
              "    </tr>\n",
              "  </thead>\n",
              "  <tbody>\n",
              "    <tr>\n",
              "      <th>Sample A</th>\n",
              "      <td>2</td>\n",
              "      <td>12</td>\n",
              "      <td>22</td>\n",
              "    </tr>\n",
              "    <tr>\n",
              "      <th>Sample B</th>\n",
              "      <td>4</td>\n",
              "      <td>14</td>\n",
              "      <td>24</td>\n",
              "    </tr>\n",
              "    <tr>\n",
              "      <th>Sample C</th>\n",
              "      <td>6</td>\n",
              "      <td>16</td>\n",
              "      <td>26</td>\n",
              "    </tr>\n",
              "    <tr>\n",
              "      <th>Sample D</th>\n",
              "      <td>8</td>\n",
              "      <td>18</td>\n",
              "      <td>28</td>\n",
              "    </tr>\n",
              "    <tr>\n",
              "      <th>Sample E</th>\n",
              "      <td>10</td>\n",
              "      <td>20</td>\n",
              "      <td>30</td>\n",
              "    </tr>\n",
              "  </tbody>\n",
              "</table>\n",
              "</div>\n",
              "    <div class=\"colab-df-buttons\">\n",
              "      \n",
              "  <div class=\"colab-df-container\">\n",
              "    <button class=\"colab-df-convert\" onclick=\"convertToInteractive('df-d188ca00-c779-43d9-84bd-eb5f848ce23c')\"\n",
              "            title=\"Convert this dataframe to an interactive table.\"\n",
              "            style=\"display:none;\">\n",
              "      \n",
              "  <svg xmlns=\"http://www.w3.org/2000/svg\" height=\"24px\" viewBox=\"0 -960 960 960\">\n",
              "    <path d=\"M120-120v-720h720v720H120Zm60-500h600v-160H180v160Zm220 220h160v-160H400v160Zm0 220h160v-160H400v160ZM180-400h160v-160H180v160Zm440 0h160v-160H620v160ZM180-180h160v-160H180v160Zm440 0h160v-160H620v160Z\"/>\n",
              "  </svg>\n",
              "    </button>\n",
              "    \n",
              "  <style>\n",
              "    .colab-df-container {\n",
              "      display:flex;\n",
              "      gap: 12px;\n",
              "    }\n",
              "\n",
              "    .colab-df-convert {\n",
              "      background-color: #E8F0FE;\n",
              "      border: none;\n",
              "      border-radius: 50%;\n",
              "      cursor: pointer;\n",
              "      display: none;\n",
              "      fill: #1967D2;\n",
              "      height: 32px;\n",
              "      padding: 0 0 0 0;\n",
              "      width: 32px;\n",
              "    }\n",
              "\n",
              "    .colab-df-convert:hover {\n",
              "      background-color: #E2EBFA;\n",
              "      box-shadow: 0px 1px 2px rgba(60, 64, 67, 0.3), 0px 1px 3px 1px rgba(60, 64, 67, 0.15);\n",
              "      fill: #174EA6;\n",
              "    }\n",
              "\n",
              "    .colab-df-buttons div {\n",
              "      margin-bottom: 4px;\n",
              "    }\n",
              "\n",
              "    [theme=dark] .colab-df-convert {\n",
              "      background-color: #3B4455;\n",
              "      fill: #D2E3FC;\n",
              "    }\n",
              "\n",
              "    [theme=dark] .colab-df-convert:hover {\n",
              "      background-color: #434B5C;\n",
              "      box-shadow: 0px 1px 3px 1px rgba(0, 0, 0, 0.15);\n",
              "      filter: drop-shadow(0px 1px 2px rgba(0, 0, 0, 0.3));\n",
              "      fill: #FFFFFF;\n",
              "    }\n",
              "  </style>\n",
              "\n",
              "    <script>\n",
              "      const buttonEl =\n",
              "        document.querySelector('#df-d188ca00-c779-43d9-84bd-eb5f848ce23c button.colab-df-convert');\n",
              "      buttonEl.style.display =\n",
              "        google.colab.kernel.accessAllowed ? 'block' : 'none';\n",
              "\n",
              "      async function convertToInteractive(key) {\n",
              "        const element = document.querySelector('#df-d188ca00-c779-43d9-84bd-eb5f848ce23c');\n",
              "        const dataTable =\n",
              "          await google.colab.kernel.invokeFunction('convertToInteractive',\n",
              "                                                    [key], {});\n",
              "        if (!dataTable) return;\n",
              "\n",
              "        const docLinkHtml = 'Like what you see? Visit the ' +\n",
              "          '<a target=\"_blank\" href=https://colab.research.google.com/notebooks/data_table.ipynb>data table notebook</a>'\n",
              "          + ' to learn more about interactive tables.';\n",
              "        element.innerHTML = '';\n",
              "        dataTable['output_type'] = 'display_data';\n",
              "        await google.colab.output.renderOutput(dataTable, element);\n",
              "        const docLink = document.createElement('div');\n",
              "        docLink.innerHTML = docLinkHtml;\n",
              "        element.appendChild(docLink);\n",
              "      }\n",
              "    </script>\n",
              "  </div>\n",
              "  \n",
              "    </div>\n",
              "  </div>\n",
              "  "
            ]
          },
          "metadata": {},
          "execution_count": 3
        }
      ]
    },
    {
      "cell_type": "markdown",
      "source": [
        "# **3.Euclidean distance numerical example**"
      ],
      "metadata": {
        "id": "Je46PWt8vL3G"
      }
    },
    {
      "cell_type": "code",
      "source": [
        "from sklearn.metrics.pairwise import euclidean_distances"
      ],
      "metadata": {
        "id": "xd0zDUWxp2Jo"
      },
      "execution_count": 4,
      "outputs": []
    },
    {
      "cell_type": "code",
      "source": [
        "dist=euclidean_distances(data)"
      ],
      "metadata": {
        "id": "I8J8lRWLqSNl"
      },
      "execution_count": 5,
      "outputs": []
    },
    {
      "cell_type": "code",
      "source": [
        "#Distance matrix\n",
        "dist_mat=pd.DataFrame(dist,columns=index,index=index)\n",
        "dist_mat"
      ],
      "metadata": {
        "colab": {
          "base_uri": "https://localhost:8080/",
          "height": 206
        },
        "id": "9_rqAB6Xqgcs",
        "outputId": "35a435fc-3579-411c-8ed3-d21af6726168"
      },
      "execution_count": 6,
      "outputs": [
        {
          "output_type": "execute_result",
          "data": {
            "text/plain": [
              "           Sample A   Sample B  Sample C   Sample D   Sample E\n",
              "Sample A   0.000000   3.464102  6.928203  10.392305  13.856406\n",
              "Sample B   3.464102   0.000000  3.464102   6.928203  10.392305\n",
              "Sample C   6.928203   3.464102  0.000000   3.464102   6.928203\n",
              "Sample D  10.392305   6.928203  3.464102   0.000000   3.464102\n",
              "Sample E  13.856406  10.392305  6.928203   3.464102   0.000000"
            ],
            "text/html": [
              "\n",
              "  <div id=\"df-00f55c4a-c98a-4deb-881f-b3b2cc38497f\" class=\"colab-df-container\">\n",
              "    <div>\n",
              "<style scoped>\n",
              "    .dataframe tbody tr th:only-of-type {\n",
              "        vertical-align: middle;\n",
              "    }\n",
              "\n",
              "    .dataframe tbody tr th {\n",
              "        vertical-align: top;\n",
              "    }\n",
              "\n",
              "    .dataframe thead th {\n",
              "        text-align: right;\n",
              "    }\n",
              "</style>\n",
              "<table border=\"1\" class=\"dataframe\">\n",
              "  <thead>\n",
              "    <tr style=\"text-align: right;\">\n",
              "      <th></th>\n",
              "      <th>Sample A</th>\n",
              "      <th>Sample B</th>\n",
              "      <th>Sample C</th>\n",
              "      <th>Sample D</th>\n",
              "      <th>Sample E</th>\n",
              "    </tr>\n",
              "  </thead>\n",
              "  <tbody>\n",
              "    <tr>\n",
              "      <th>Sample A</th>\n",
              "      <td>0.000000</td>\n",
              "      <td>3.464102</td>\n",
              "      <td>6.928203</td>\n",
              "      <td>10.392305</td>\n",
              "      <td>13.856406</td>\n",
              "    </tr>\n",
              "    <tr>\n",
              "      <th>Sample B</th>\n",
              "      <td>3.464102</td>\n",
              "      <td>0.000000</td>\n",
              "      <td>3.464102</td>\n",
              "      <td>6.928203</td>\n",
              "      <td>10.392305</td>\n",
              "    </tr>\n",
              "    <tr>\n",
              "      <th>Sample C</th>\n",
              "      <td>6.928203</td>\n",
              "      <td>3.464102</td>\n",
              "      <td>0.000000</td>\n",
              "      <td>3.464102</td>\n",
              "      <td>6.928203</td>\n",
              "    </tr>\n",
              "    <tr>\n",
              "      <th>Sample D</th>\n",
              "      <td>10.392305</td>\n",
              "      <td>6.928203</td>\n",
              "      <td>3.464102</td>\n",
              "      <td>0.000000</td>\n",
              "      <td>3.464102</td>\n",
              "    </tr>\n",
              "    <tr>\n",
              "      <th>Sample E</th>\n",
              "      <td>13.856406</td>\n",
              "      <td>10.392305</td>\n",
              "      <td>6.928203</td>\n",
              "      <td>3.464102</td>\n",
              "      <td>0.000000</td>\n",
              "    </tr>\n",
              "  </tbody>\n",
              "</table>\n",
              "</div>\n",
              "    <div class=\"colab-df-buttons\">\n",
              "      \n",
              "  <div class=\"colab-df-container\">\n",
              "    <button class=\"colab-df-convert\" onclick=\"convertToInteractive('df-00f55c4a-c98a-4deb-881f-b3b2cc38497f')\"\n",
              "            title=\"Convert this dataframe to an interactive table.\"\n",
              "            style=\"display:none;\">\n",
              "      \n",
              "  <svg xmlns=\"http://www.w3.org/2000/svg\" height=\"24px\" viewBox=\"0 -960 960 960\">\n",
              "    <path d=\"M120-120v-720h720v720H120Zm60-500h600v-160H180v160Zm220 220h160v-160H400v160Zm0 220h160v-160H400v160ZM180-400h160v-160H180v160Zm440 0h160v-160H620v160ZM180-180h160v-160H180v160Zm440 0h160v-160H620v160Z\"/>\n",
              "  </svg>\n",
              "    </button>\n",
              "    \n",
              "  <style>\n",
              "    .colab-df-container {\n",
              "      display:flex;\n",
              "      gap: 12px;\n",
              "    }\n",
              "\n",
              "    .colab-df-convert {\n",
              "      background-color: #E8F0FE;\n",
              "      border: none;\n",
              "      border-radius: 50%;\n",
              "      cursor: pointer;\n",
              "      display: none;\n",
              "      fill: #1967D2;\n",
              "      height: 32px;\n",
              "      padding: 0 0 0 0;\n",
              "      width: 32px;\n",
              "    }\n",
              "\n",
              "    .colab-df-convert:hover {\n",
              "      background-color: #E2EBFA;\n",
              "      box-shadow: 0px 1px 2px rgba(60, 64, 67, 0.3), 0px 1px 3px 1px rgba(60, 64, 67, 0.15);\n",
              "      fill: #174EA6;\n",
              "    }\n",
              "\n",
              "    .colab-df-buttons div {\n",
              "      margin-bottom: 4px;\n",
              "    }\n",
              "\n",
              "    [theme=dark] .colab-df-convert {\n",
              "      background-color: #3B4455;\n",
              "      fill: #D2E3FC;\n",
              "    }\n",
              "\n",
              "    [theme=dark] .colab-df-convert:hover {\n",
              "      background-color: #434B5C;\n",
              "      box-shadow: 0px 1px 3px 1px rgba(0, 0, 0, 0.15);\n",
              "      filter: drop-shadow(0px 1px 2px rgba(0, 0, 0, 0.3));\n",
              "      fill: #FFFFFF;\n",
              "    }\n",
              "  </style>\n",
              "\n",
              "    <script>\n",
              "      const buttonEl =\n",
              "        document.querySelector('#df-00f55c4a-c98a-4deb-881f-b3b2cc38497f button.colab-df-convert');\n",
              "      buttonEl.style.display =\n",
              "        google.colab.kernel.accessAllowed ? 'block' : 'none';\n",
              "\n",
              "      async function convertToInteractive(key) {\n",
              "        const element = document.querySelector('#df-00f55c4a-c98a-4deb-881f-b3b2cc38497f');\n",
              "        const dataTable =\n",
              "          await google.colab.kernel.invokeFunction('convertToInteractive',\n",
              "                                                    [key], {});\n",
              "        if (!dataTable) return;\n",
              "\n",
              "        const docLinkHtml = 'Like what you see? Visit the ' +\n",
              "          '<a target=\"_blank\" href=https://colab.research.google.com/notebooks/data_table.ipynb>data table notebook</a>'\n",
              "          + ' to learn more about interactive tables.';\n",
              "        element.innerHTML = '';\n",
              "        dataTable['output_type'] = 'display_data';\n",
              "        await google.colab.output.renderOutput(dataTable, element);\n",
              "        const docLink = document.createElement('div');\n",
              "        docLink.innerHTML = docLinkHtml;\n",
              "        element.appendChild(docLink);\n",
              "      }\n",
              "    </script>\n",
              "  </div>\n",
              "  \n",
              "    </div>\n",
              "  </div>\n",
              "  "
            ]
          },
          "metadata": {},
          "execution_count": 6
        }
      ]
    },
    {
      "cell_type": "code",
      "source": [
        "data.loc['Sample A'],data.loc['Sample B']"
      ],
      "metadata": {
        "colab": {
          "base_uri": "https://localhost:8080/"
        },
        "id": "XLFLohVsrWMf",
        "outputId": "8753033f-2f4a-4e76-b263-9623cdf6bf41"
      },
      "execution_count": 7,
      "outputs": [
        {
          "output_type": "execute_result",
          "data": {
            "text/plain": [
              "(x1     2\n",
              " x2    12\n",
              " x3    22\n",
              " Name: Sample A, dtype: int64,\n",
              " x1     4\n",
              " x2    14\n",
              " x3    24\n",
              " Name: Sample B, dtype: int64)"
            ]
          },
          "metadata": {},
          "execution_count": 7
        }
      ]
    },
    {
      "cell_type": "markdown",
      "source": [
        "![image.png](data:image/png;base64,iVBORw0KGgoAAAANSUhEUgAAAScAAAAhCAYAAACbdG3oAAAAAXNSR0IArs4c6QAAAARnQU1BAACxjwv8YQUAAAAJcEhZcwAAEnQAABJ0Ad5mH3gAABGiSURBVHhe7ZxtbFNXmoCf2axcCcmzKxkxs65Y4YJqxC6ho8aqGk9Rk1LFSUVMdvMxIik7GKoNVJOk1eAgxUnVOGhIWNEkWgg/qNFQgzahWmqkKY4mdWYCRjM10lAjVXEFXLQI74JiaYQlJKxG3h++X77+iB1CCNSPdCXfe+5NfM57znver+sfJZPJJCVKlCixwvgb7YUSJUqUWAmUlFOJEiVWJCXlVKJEiRXJc6WcwkcqcU1rr5YoUeJZ5DlSTjGEm3qMP9FeL1GixLPIc6Sc5rgrbOSldcCMi4qKirSj6XRU+0CJEiWeENHTTRlr0DWjvSs/z49yeigQwYxplbYhHwmiF1zU9/lJaJtK5CR0pInO02Hi2oaVynyc8AkHracEbUuJXNyfYF+jm8B9bcPyUZRyStOGfUFt89Pl9i1m/+klTNrrGLE02Knd8ILmepzwsd3U9/uJTl4mtGjtlCB6xYtrVw2V0ti8VkVT+zC+756Z5ZtB/Dsfw3traM2wOMMEvxQIjjqo7wvmUFBxwqed1FeK41FZj/NpKbP5GP6D9ThOhon4p9H2pmASUYKnXbTWVCproKqJfUd9RP6qvfkZQexT02sutKs5/qdpQrd9OOta8d7WNErEw3gP1MvzvrLBifd6SsovbKjF3mDBqH2mCIpSTiuZxJ0IrDeh0zZQTltPL45KQ9rV2HknjlMRQI/tSDfWzAcXZj6G/+B26juG8X8bU6yv+TjCVS/unVU4zj5Du/V8AuHKcZx1FVTtdOO9puqTTDldp7owA/EvO2k/ndm/6Nl2HKMBognQ6XWQiBIYddB+dtGqYdGEjzbimo4DZroGHYtbLPf9OLfX0znqJxJTjUhcIHTWTWuNI/cCXoEkYhF8h1qprEz1SZjX3gH6+iFG6vRAhOHdLoIZO0sU7/sOhqejJNCh10HiToDh3e1474Ch0kFvTxvl2seK4LlRTnejUV4yrtZezs59H65DIQBM73sY2KrX3lEQwul2XFMx+dzwig17gxVTmXJP+KgT7x3lfEUi7aCVlTR1eBY25de1MdpjASAy2snxb9WNYbz/GQHA9P45rkxfwbMrtTFE/IHFWy6L4doQneNxQIftyAna1mlvKIB5Ac+vXARkMRsor7Fj36qy0efDDHd7l7dvi0CyhitrWnGfj2TZeNTosX40QrMeiPvp/Mifbvle84pyN7H/8ytMX/LQZgCIcPHS0ozEc6OchBt3MZnSraNchDyDhAB0zTh3ZTqCBfHQz9gxxWowd5xj8uQAvT0jnJsawiZbYsKSCetJERzIvYPmwlDfhcMIEMVzZAJFRb+IvX+IocNDDLyTGtsXJGX9SL6pAGJEpgIEpgIEpkIID7XtCxFjYmQitaA2d/FB1eI2oMTUGMdvSmdmuj6fxHOol96j55g+YlMs9ZsXCaxkMd/x4hCt4YIpK2ffQWvq80w/Y1dVbUY7A4eHGDo8gH0dUPaCPBaJ71X3PQbPiXISuB3Zgnmt9noWHvo593lqzzDuasKisnKK4lqIgHxiY0+rSsnpq6muUk4js5muz4pEZ8Sy04GtEB1fZmZHo9jn617G5QVswLytmupt1ZjXALe99J9KLQhjlbUIt2qWzw46cR504jw4RLCINQXAzXG811Mfq3+xg0K6lI3QnxUpU7MnzfrSb62mWj6LMHtDaVvJ6DfZ6GoszOHSb2vGBkCCiXFV4miNmept1VRvM2MAhNP9eGIARqqshUs5H9mVUyJK4FArNXJAsxXXeJg57X3LSCIWYqKviX3jWWbpvMCtqIlCDKfEpYuiUjFgU5vm8SCuqhylB/EALmksKirYdz4Gq8uxN9hTR3stW/IoOcNPCnQ3l4D4jIsqOX3blOZSxqddStC+Yh8+0X1bbe1iZHyaK1cuMPbhDjb+vfJMPoxVdjEBEcX732FtM/w1gGv3MBGATV2MvLdIK3URRPw+0c2yUv2GElCMjTuUgHaFE3+aRRbD167IueKAn7/bLMq4wc7+d7aob9ZgoNCowmMzH2JINR/rT2g2v2tDKjnXpyy/VSba+s4wOXOV6dMDtFUWqEDKrNTWiZ+nfVzMsvzi0y4coylX3twxwv712jsWR6Zymo9wvKUe5/kIcuwvEcF/xIFD5cYsyB0vTfIA5TlaFvDVH0bw9TXx5s4xwrFHhE58Sljrfty5TWSDkULmRigo5SV+zpZNqga9lW7JhAWE0UH8opMdPuHGL43F+i56Gwzwsp3ent7UsdeavjM/9OOfVE4tm83q1ieKfms33VulM4HhT8RYwXyYsX5l5zN19GJfk/psrmnDul6fJZmwAGvLsYgPJaYup5SQRDyIq8GZGsO1zYwda0uLxT1ZooRmxFW0yUK5qrzEsM1OKloGEOCy2lV5GCKgOrdtt/HPDaKMsyRVElN+/PKZhS3LJeYyC7YGRVrR6WDaGooEv1IsnPXN7FgPGKzY680Yiiq1SbHxZ9KIhQhcTY9UxWdc1B9IzTFjyxgnFhsmyUKGcoqcOIBHtdvqXrZib7Bi1gFapbAcrDJS/osR/jDpYeDIfqrjE4xd0Kjv/7mFsMFUgMsgEJGCt+tNGWUH+ppuumSFFWTwRBjueHGPS6FAI46P2hb4PwmC/zGouHxGB+8qOm8Z0GP7IJVNA2BmkLFrED3jZkLuhoOB1vy9KIwXMUveQew6s5JY4kHcjZ0pxbTJgee0E8viQj6LY36WWcnNXKeZF4Za7LLyhsCfFYsvcSmgSqnbqM0nt4dBBg8rLp9x97tYl035Qvk7bcqGeDNISF4SAl9NKuvD9E71AvN1YQwmJQseCs/K1+Mzbho/TCkm824PZw5YWEoxa5RTGN8ZRQcbd3n4w9kRentGOHPpnGrhFsAqE7WS25PveNuEtgIpHT2mTcbU4KyysWe3kdBouvUUvR3BvEGrarIR5ZaU8t1gzCI0I20HlXRzfNxNa88wkr2oq+tm7wJjEJ/px3VB0gJ6mvv3Y15w0gZxaS3KfMdCNWZr2+jbLfeCid+0cmBU7gW2X+8t4DsVgoHVovUFt7h7j5RrdLATn7g+dPd8HGipoaauhpq6TiZymsnaMehUWSUCww3qtnR3NYNoVLbiTCatlHVU1yiRosR5P5J6CgUVZaNrtOdRNnGCh134ZDE3M9BegNmU5c2FfEfeiupNtdjlroXwS5binSDT8hiX02TT9n8RGIy8KH5M/G80ZZXFfDg/9ImJEB1zvztAY50o546J/N5QgaQrpzthVTGiieaGcsXULzNRva0QBSBisOKQ3J58h9YlWgDzrv1Y4xN8OqUkNoUbAhvXFSCE2JySVSrLoRI37WegRdL/KksLK30HrHldH/VOAmDu8OB8RXPTMmFuH0ilgQFuRhSXa2sf3Vvz9aJI/lb6ECM6B/CIuCo4mYjFiN2XjiiJ5bC+Y1HuSp+zyFn3hiqQnfiKy9+m4jjBKfkOdmxTnL904gT7G+n8UpYyXaeclOdUZE8KE7V1ypwPXQqRAGJXAvJmymYbb8mbx2NQhjLv786lYs8P46oYdEIl4xixe/mLFApFo5wEpWOYMRWS/Vpu9Db2tOgJHvuMyDxAFCFiKuy7pg1obsrbu9Fa9KaObmz5bNbbXtrlnQT0dSNF+N+rsWgtynzHzwqIrqnTwDImuj6wLanpbVqn7aORtvGrXL2a7ThHWyFyelwePMhfw7NKnU2NMX01Cten+UJ6SLcDW4VyuxrhdDudclhBj+1oEfVTP7VkyjLPYfmp9g+kY3rbplj/M5cJzce4PK24qZb6t4ra+HNizAyBsLaNcxnyFY/xhUIfhZERc1oyliognoXyf+vCEvVwfCoOCMzeLFCRrtIXFDQnFs34TnP38qi1+36cUlYK0L/Wi+cjaxFKwIxda1HmOxoKcCGAuWhGL4hmybY8DsLtIpIkebEykDbJR8QUNimler4IJffjH+e1cEGHbbvy14XfBfCrgsi6BlvWyubYpFPOSoEeS0+RBbzqJEoBh/1l7R/QsH4HzXJmzM/FqcuqgL4F29YlUU0QVRsty0e6clqr1pACgnZurxTW2HE06gge+wwhKiCs35ip2bNhWK3sJPO5KgJj+A4fzxBGfNylqYSWGoK4WlwEJCt/UxeeUfsyZqZycN/HUEZ2Nc5E33HR4lwi5IK7ZUylL4QqRpJTzlY7zZIGu/kpg59LWttA2zuZqik+46KxJ5Dmso81FDTrniBGav9F+a6Bw8NKQH+rndol0k3Mo1iiL64ubINfAjTKSUkNQ4SJ86rk8Hyc0DXtZM/DkgXEs2NxdFEe9TA2GiZiLiRTB2BM/aQKwI1M6wggPtmPW959rNjrpJ0xiuewxspLCHjeF7NSAAY7I8uaMs9FHP9hd6oKntRElV3SqIf+8Ww9Xwwx5uRXXV7ixZXyW1pGo5ytFHLtsGUWquqlyR4nrpLhW5qkR+Kmh3ZVLNFQX4zL/mQxVClWXkLuBFhrqhewHotAFcPT/YOYnFoGNG5dOU27lGUePdVK5c5O3Ic6aX2jCne+7IGWJxQQl1mzgz11OgJTAUwFZeoATJiliXdzNsM6Yj7M2GElE2bq6Kb3gCr+9O0wg5PSBIji3duUZk2ZyiEw6sZ9SHt4iq9wfhyujTEoy8pE1we9aTVckaNKDdfjcZeIFOIwbGbjogT5BCjbyEbJ3YkIWTchAMu2HRkLzdhQq5RhkApP7G45riQUykxsKQswnCFjN+6TQdVrPMvEmrewbdZerKZWVXj6uMQEQbacLOUbNa2L5H6YwFQQIc88zIg5md4bSSsZSHwXxHc+SCRvhPFpoMP63n5MgLmQTJ2IxSot0hDfaNy0yAmXUgukb6a31Qh6G90fKtM1eHiY4ENSsS7N88K0D9/5bMfFRbwbtkjmIxzvE98pA/QtvbStzVLD9Ukwf9C4EFTZXd22n6cv6sdGnSSoLfJ3uoxYpHjLzRDhXGNfYWNH2ho2Yntbs9EJs+nFpfMCgQz5isfvheJeH1wSDLxVr8ksVlVTXdR45Wf2L5INbqG6YimUXhTvrx04D3bS9EnuspgM5USZibaTFxjaacEofQ+dEcvOISaPKEHEFcHaZvZUmXjpH7UNudG9USumkWP4Z1S2020v/aekPVaH7eMuOT1sbOkTX3IF4j4GT6VN1xWFcKYfj9wNGwPvS0a/pobrwiAns8XQikBJWxtpU8U+lgZ1ksCBtUirzGyzi30NEriUSw2XY29V/WGpmvoZw1BjT8su27arXkh+XNQlFlVLFcdajcmc+kPl5jxeT/JZ58ZscvZ7zbU/9iRfffVV8ehJXtY0f/2b11Ntrw8mv9Y+W6Iwvp9NHtsujvG/f5Gc07Y/deaS478Uv98vx3N+v7n/2i3Plcbf3tU2Pxt8/3Vy8HXVfF/COf3A3yH+3TeTg3/Rti7E5WSPvA5fTfb8Uduen0zL6VljvXmBaucw3kNuPFeUaIDF0Z16vyoxwVCWH0srsTCxC8OihWbE0WFfXNzwiWKgubM5Vc5xfZhPprMEN+bDfHpCCpotUTX1UyB2wcOE5F7nrWwvEnUMdms3+4ooKI5d8eA+5JWr7xfDs6+cFiRK6LyPizdU0YA1dgbEH0sTjrk4Lv60aIkCue2lQ/yxPnPHCPsXeKXnqfGKk5EWPZDA3+/GL2UWv/Ph7tlH/RsOJcZYYV+aauplI0bwpJvOXVXUiLIAPTtsuSrbiyVO8OPO1PjobYx8XFzx7qMbF/GdD+VMRhTCD0A5ZcfQMMRYixGI4Nk7SDBXWKKEhjDDYsFpcVXwT4fyDz30vqZP/ezNrzypxfJ/IXyTIaKyzM10HVyJ1l8+HiH83kfwW2Vj1dcNFGXd5CN+wSm+omOm69QA1mI001Kh9fN+WDxK3vX1JLf3Xkw+0jaVyMnXQ43Jjt9+k3ygbVipfP8g+c3Y7uROz63U+Z8Gk6+LcZA33+1JfnHjWZT+3eT4HjGe8/r2ZPvY5eSDJYw1Je+NJ9v/tT/51T1tw/Lxo2QymdQqrBIlSpR42vxg3boSJUqsbErKqUSJEiuS/wc+y6fzswML+wAAAABJRU5ErkJggg==)"
      ],
      "metadata": {
        "id": "r9FQkef0vuLv"
      }
    },
    {
      "cell_type": "code",
      "source": [
        "import numpy as np\n",
        "dist_A_B=np.sqrt((2-4)**2+(12-14)**2+(22-24)**2)"
      ],
      "metadata": {
        "id": "z9J-n0n5qgxf"
      },
      "execution_count": 8,
      "outputs": []
    },
    {
      "cell_type": "code",
      "source": [
        "dist_A_B"
      ],
      "metadata": {
        "colab": {
          "base_uri": "https://localhost:8080/"
        },
        "id": "P6hqJ_w6rkBY",
        "outputId": "a2ccf6eb-8485-4a55-c820-941a56f1bb48"
      },
      "execution_count": 9,
      "outputs": [
        {
          "output_type": "execute_result",
          "data": {
            "text/plain": [
              "np.float64(3.4641016151377544)"
            ]
          },
          "metadata": {},
          "execution_count": 9
        }
      ]
    },
    {
      "cell_type": "markdown",
      "source": [
        "# **4.Initialize centroids**"
      ],
      "metadata": {
        "id": "wSjU9Qg-v50Y"
      }
    },
    {
      "cell_type": "code",
      "source": [
        "#Let's assume sample A and sample D are centroids\n",
        "centroid_1=data.loc['Sample A']\n",
        "centroid_2=data.loc['Sample D']"
      ],
      "metadata": {
        "id": "5Q7jYJ95rmge"
      },
      "execution_count": 10,
      "outputs": []
    },
    {
      "cell_type": "code",
      "source": [
        "centroid_1"
      ],
      "metadata": {
        "colab": {
          "base_uri": "https://localhost:8080/",
          "height": 178
        },
        "id": "5Gw3YI3KwhDO",
        "outputId": "18a8af02-9cb9-4370-e192-494a710edeeb"
      },
      "execution_count": 11,
      "outputs": [
        {
          "output_type": "execute_result",
          "data": {
            "text/plain": [
              "x1     2\n",
              "x2    12\n",
              "x3    22\n",
              "Name: Sample A, dtype: int64"
            ],
            "text/html": [
              "<div>\n",
              "<style scoped>\n",
              "    .dataframe tbody tr th:only-of-type {\n",
              "        vertical-align: middle;\n",
              "    }\n",
              "\n",
              "    .dataframe tbody tr th {\n",
              "        vertical-align: top;\n",
              "    }\n",
              "\n",
              "    .dataframe thead th {\n",
              "        text-align: right;\n",
              "    }\n",
              "</style>\n",
              "<table border=\"1\" class=\"dataframe\">\n",
              "  <thead>\n",
              "    <tr style=\"text-align: right;\">\n",
              "      <th></th>\n",
              "      <th>Sample A</th>\n",
              "    </tr>\n",
              "  </thead>\n",
              "  <tbody>\n",
              "    <tr>\n",
              "      <th>x1</th>\n",
              "      <td>2</td>\n",
              "    </tr>\n",
              "    <tr>\n",
              "      <th>x2</th>\n",
              "      <td>12</td>\n",
              "    </tr>\n",
              "    <tr>\n",
              "      <th>x3</th>\n",
              "      <td>22</td>\n",
              "    </tr>\n",
              "  </tbody>\n",
              "</table>\n",
              "</div><br><label><b>dtype:</b> int64</label>"
            ]
          },
          "metadata": {},
          "execution_count": 11
        }
      ]
    },
    {
      "cell_type": "code",
      "source": [
        "centroid_2"
      ],
      "metadata": {
        "colab": {
          "base_uri": "https://localhost:8080/",
          "height": 178
        },
        "id": "DUekHO6ywi-M",
        "outputId": "3756448c-9d89-4b24-e731-50924b14f9b0"
      },
      "execution_count": 12,
      "outputs": [
        {
          "output_type": "execute_result",
          "data": {
            "text/plain": [
              "x1     8\n",
              "x2    18\n",
              "x3    28\n",
              "Name: Sample D, dtype: int64"
            ],
            "text/html": [
              "<div>\n",
              "<style scoped>\n",
              "    .dataframe tbody tr th:only-of-type {\n",
              "        vertical-align: middle;\n",
              "    }\n",
              "\n",
              "    .dataframe tbody tr th {\n",
              "        vertical-align: top;\n",
              "    }\n",
              "\n",
              "    .dataframe thead th {\n",
              "        text-align: right;\n",
              "    }\n",
              "</style>\n",
              "<table border=\"1\" class=\"dataframe\">\n",
              "  <thead>\n",
              "    <tr style=\"text-align: right;\">\n",
              "      <th></th>\n",
              "      <th>Sample D</th>\n",
              "    </tr>\n",
              "  </thead>\n",
              "  <tbody>\n",
              "    <tr>\n",
              "      <th>x1</th>\n",
              "      <td>8</td>\n",
              "    </tr>\n",
              "    <tr>\n",
              "      <th>x2</th>\n",
              "      <td>18</td>\n",
              "    </tr>\n",
              "    <tr>\n",
              "      <th>x3</th>\n",
              "      <td>28</td>\n",
              "    </tr>\n",
              "  </tbody>\n",
              "</table>\n",
              "</div><br><label><b>dtype:</b> int64</label>"
            ]
          },
          "metadata": {},
          "execution_count": 12
        }
      ]
    },
    {
      "cell_type": "markdown",
      "source": [
        "# **5.Calculate distances**"
      ],
      "metadata": {
        "id": "5kJJWmszwXnN"
      }
    },
    {
      "cell_type": "code",
      "source": [
        "#Computig euclidean distance for all samples to centroid 1\n",
        "sample_A_to_centroid_1=np.sqrt((2-2)**2+(12-12)**2+(22-22)**2)\n",
        "sample_B_to_centroid_1=np.sqrt((4-2)**2+(14-12)**2+(24-22)**2)\n",
        "sample_C_to_centroid_1=np.sqrt((6-2)**2+(16-12)**2+(26-22)**2)\n",
        "sample_D_to_centroid_1=np.sqrt((8-2)**2+(18-12)**2+(28-22)**2)\n",
        "sample_E_to_centroid_1=np.sqrt((10-2)**2+(20-12)**2+(30-22)**2)"
      ],
      "metadata": {
        "id": "_slnf-u2wM5d"
      },
      "execution_count": 13,
      "outputs": []
    },
    {
      "cell_type": "code",
      "source": [
        "#Distance DataFrame\n",
        "centroid_1_dist=pd.DataFrame({\n",
        "    'centroid 1 to all samples':[sample_A_to_centroid_1,sample_B_to_centroid_1,sample_C_to_centroid_1,sample_D_to_centroid_1,sample_E_to_centroid_1]})"
      ],
      "metadata": {
        "id": "j944ap3MxKMV"
      },
      "execution_count": 14,
      "outputs": []
    },
    {
      "cell_type": "code",
      "source": [
        "centroid_1_dist"
      ],
      "metadata": {
        "colab": {
          "base_uri": "https://localhost:8080/",
          "height": 206
        },
        "id": "NXnJO_NVxdqK",
        "outputId": "25c27835-300f-438a-dc8e-cc5342e10d71"
      },
      "execution_count": 15,
      "outputs": [
        {
          "output_type": "execute_result",
          "data": {
            "text/plain": [
              "   centroid 1 to all samples\n",
              "0                   0.000000\n",
              "1                   3.464102\n",
              "2                   6.928203\n",
              "3                  10.392305\n",
              "4                  13.856406"
            ],
            "text/html": [
              "\n",
              "  <div id=\"df-7aa5f618-87c5-43f7-8cfe-d94cd4e11ff9\" class=\"colab-df-container\">\n",
              "    <div>\n",
              "<style scoped>\n",
              "    .dataframe tbody tr th:only-of-type {\n",
              "        vertical-align: middle;\n",
              "    }\n",
              "\n",
              "    .dataframe tbody tr th {\n",
              "        vertical-align: top;\n",
              "    }\n",
              "\n",
              "    .dataframe thead th {\n",
              "        text-align: right;\n",
              "    }\n",
              "</style>\n",
              "<table border=\"1\" class=\"dataframe\">\n",
              "  <thead>\n",
              "    <tr style=\"text-align: right;\">\n",
              "      <th></th>\n",
              "      <th>centroid 1 to all samples</th>\n",
              "    </tr>\n",
              "  </thead>\n",
              "  <tbody>\n",
              "    <tr>\n",
              "      <th>0</th>\n",
              "      <td>0.000000</td>\n",
              "    </tr>\n",
              "    <tr>\n",
              "      <th>1</th>\n",
              "      <td>3.464102</td>\n",
              "    </tr>\n",
              "    <tr>\n",
              "      <th>2</th>\n",
              "      <td>6.928203</td>\n",
              "    </tr>\n",
              "    <tr>\n",
              "      <th>3</th>\n",
              "      <td>10.392305</td>\n",
              "    </tr>\n",
              "    <tr>\n",
              "      <th>4</th>\n",
              "      <td>13.856406</td>\n",
              "    </tr>\n",
              "  </tbody>\n",
              "</table>\n",
              "</div>\n",
              "    <div class=\"colab-df-buttons\">\n",
              "      \n",
              "  <div class=\"colab-df-container\">\n",
              "    <button class=\"colab-df-convert\" onclick=\"convertToInteractive('df-7aa5f618-87c5-43f7-8cfe-d94cd4e11ff9')\"\n",
              "            title=\"Convert this dataframe to an interactive table.\"\n",
              "            style=\"display:none;\">\n",
              "      \n",
              "  <svg xmlns=\"http://www.w3.org/2000/svg\" height=\"24px\" viewBox=\"0 -960 960 960\">\n",
              "    <path d=\"M120-120v-720h720v720H120Zm60-500h600v-160H180v160Zm220 220h160v-160H400v160Zm0 220h160v-160H400v160ZM180-400h160v-160H180v160Zm440 0h160v-160H620v160ZM180-180h160v-160H180v160Zm440 0h160v-160H620v160Z\"/>\n",
              "  </svg>\n",
              "    </button>\n",
              "    \n",
              "  <style>\n",
              "    .colab-df-container {\n",
              "      display:flex;\n",
              "      gap: 12px;\n",
              "    }\n",
              "\n",
              "    .colab-df-convert {\n",
              "      background-color: #E8F0FE;\n",
              "      border: none;\n",
              "      border-radius: 50%;\n",
              "      cursor: pointer;\n",
              "      display: none;\n",
              "      fill: #1967D2;\n",
              "      height: 32px;\n",
              "      padding: 0 0 0 0;\n",
              "      width: 32px;\n",
              "    }\n",
              "\n",
              "    .colab-df-convert:hover {\n",
              "      background-color: #E2EBFA;\n",
              "      box-shadow: 0px 1px 2px rgba(60, 64, 67, 0.3), 0px 1px 3px 1px rgba(60, 64, 67, 0.15);\n",
              "      fill: #174EA6;\n",
              "    }\n",
              "\n",
              "    .colab-df-buttons div {\n",
              "      margin-bottom: 4px;\n",
              "    }\n",
              "\n",
              "    [theme=dark] .colab-df-convert {\n",
              "      background-color: #3B4455;\n",
              "      fill: #D2E3FC;\n",
              "    }\n",
              "\n",
              "    [theme=dark] .colab-df-convert:hover {\n",
              "      background-color: #434B5C;\n",
              "      box-shadow: 0px 1px 3px 1px rgba(0, 0, 0, 0.15);\n",
              "      filter: drop-shadow(0px 1px 2px rgba(0, 0, 0, 0.3));\n",
              "      fill: #FFFFFF;\n",
              "    }\n",
              "  </style>\n",
              "\n",
              "    <script>\n",
              "      const buttonEl =\n",
              "        document.querySelector('#df-7aa5f618-87c5-43f7-8cfe-d94cd4e11ff9 button.colab-df-convert');\n",
              "      buttonEl.style.display =\n",
              "        google.colab.kernel.accessAllowed ? 'block' : 'none';\n",
              "\n",
              "      async function convertToInteractive(key) {\n",
              "        const element = document.querySelector('#df-7aa5f618-87c5-43f7-8cfe-d94cd4e11ff9');\n",
              "        const dataTable =\n",
              "          await google.colab.kernel.invokeFunction('convertToInteractive',\n",
              "                                                    [key], {});\n",
              "        if (!dataTable) return;\n",
              "\n",
              "        const docLinkHtml = 'Like what you see? Visit the ' +\n",
              "          '<a target=\"_blank\" href=https://colab.research.google.com/notebooks/data_table.ipynb>data table notebook</a>'\n",
              "          + ' to learn more about interactive tables.';\n",
              "        element.innerHTML = '';\n",
              "        dataTable['output_type'] = 'display_data';\n",
              "        await google.colab.output.renderOutput(dataTable, element);\n",
              "        const docLink = document.createElement('div');\n",
              "        docLink.innerHTML = docLinkHtml;\n",
              "        element.appendChild(docLink);\n",
              "      }\n",
              "    </script>\n",
              "  </div>\n",
              "  \n",
              "    </div>\n",
              "  </div>\n",
              "  "
            ]
          },
          "metadata": {},
          "execution_count": 15
        }
      ]
    },
    {
      "cell_type": "code",
      "source": [
        "data,centroid_2"
      ],
      "metadata": {
        "colab": {
          "base_uri": "https://localhost:8080/"
        },
        "id": "kmf7SWEbyjE9",
        "outputId": "db789cc1-7b14-4ac7-b713-0d6db6386ee5"
      },
      "execution_count": 16,
      "outputs": [
        {
          "output_type": "execute_result",
          "data": {
            "text/plain": [
              "(          x1  x2  x3\n",
              " Sample A   2  12  22\n",
              " Sample B   4  14  24\n",
              " Sample C   6  16  26\n",
              " Sample D   8  18  28\n",
              " Sample E  10  20  30,\n",
              " x1     8\n",
              " x2    18\n",
              " x3    28\n",
              " Name: Sample D, dtype: int64)"
            ]
          },
          "metadata": {},
          "execution_count": 16
        }
      ]
    },
    {
      "cell_type": "code",
      "source": [
        "#Computig euclidean distance for all samples to centroid 2\n",
        "sample_A_to_centroid_2=np.sqrt((2-8)**2+(12-18)**2+(22-28)**2)\n",
        "sample_B_to_centroid_2=np.sqrt((4-8)**2+(14-18)**2+(24-28)**2)\n",
        "sample_C_to_centroid_2=np.sqrt((6-8)**2+(16-18)**2+(26-28)**2)\n",
        "sample_D_to_centroid_2=np.sqrt((8-8)**2+(18-18)**2+(28-28)**2)\n",
        "sample_E_to_centroid_2=np.sqrt((10-8)**2+(20-18)**2+(30-28)**2)"
      ],
      "metadata": {
        "id": "QlT_VODKyPXh"
      },
      "execution_count": 17,
      "outputs": []
    },
    {
      "cell_type": "code",
      "source": [
        "centroid_2_dist=pd.DataFrame({\n",
        "    'centroid 2 to all samples':[sample_A_to_centroid_2,sample_B_to_centroid_2,sample_C_to_centroid_2,sample_D_to_centroid_2,sample_E_to_centroid_2]})"
      ],
      "metadata": {
        "id": "39PN8j5czH93"
      },
      "execution_count": 18,
      "outputs": []
    },
    {
      "cell_type": "code",
      "source": [
        "centroid_2_dist"
      ],
      "metadata": {
        "colab": {
          "base_uri": "https://localhost:8080/",
          "height": 206
        },
        "id": "HzJnK0TfzT42",
        "outputId": "02eaff69-8e55-4789-e660-5de7b53e9684"
      },
      "execution_count": 19,
      "outputs": [
        {
          "output_type": "execute_result",
          "data": {
            "text/plain": [
              "   centroid 2 to all samples\n",
              "0                  10.392305\n",
              "1                   6.928203\n",
              "2                   3.464102\n",
              "3                   0.000000\n",
              "4                   3.464102"
            ],
            "text/html": [
              "\n",
              "  <div id=\"df-0acc8bc3-77be-4a1b-aa8a-46b83783b2b4\" class=\"colab-df-container\">\n",
              "    <div>\n",
              "<style scoped>\n",
              "    .dataframe tbody tr th:only-of-type {\n",
              "        vertical-align: middle;\n",
              "    }\n",
              "\n",
              "    .dataframe tbody tr th {\n",
              "        vertical-align: top;\n",
              "    }\n",
              "\n",
              "    .dataframe thead th {\n",
              "        text-align: right;\n",
              "    }\n",
              "</style>\n",
              "<table border=\"1\" class=\"dataframe\">\n",
              "  <thead>\n",
              "    <tr style=\"text-align: right;\">\n",
              "      <th></th>\n",
              "      <th>centroid 2 to all samples</th>\n",
              "    </tr>\n",
              "  </thead>\n",
              "  <tbody>\n",
              "    <tr>\n",
              "      <th>0</th>\n",
              "      <td>10.392305</td>\n",
              "    </tr>\n",
              "    <tr>\n",
              "      <th>1</th>\n",
              "      <td>6.928203</td>\n",
              "    </tr>\n",
              "    <tr>\n",
              "      <th>2</th>\n",
              "      <td>3.464102</td>\n",
              "    </tr>\n",
              "    <tr>\n",
              "      <th>3</th>\n",
              "      <td>0.000000</td>\n",
              "    </tr>\n",
              "    <tr>\n",
              "      <th>4</th>\n",
              "      <td>3.464102</td>\n",
              "    </tr>\n",
              "  </tbody>\n",
              "</table>\n",
              "</div>\n",
              "    <div class=\"colab-df-buttons\">\n",
              "      \n",
              "  <div class=\"colab-df-container\">\n",
              "    <button class=\"colab-df-convert\" onclick=\"convertToInteractive('df-0acc8bc3-77be-4a1b-aa8a-46b83783b2b4')\"\n",
              "            title=\"Convert this dataframe to an interactive table.\"\n",
              "            style=\"display:none;\">\n",
              "      \n",
              "  <svg xmlns=\"http://www.w3.org/2000/svg\" height=\"24px\" viewBox=\"0 -960 960 960\">\n",
              "    <path d=\"M120-120v-720h720v720H120Zm60-500h600v-160H180v160Zm220 220h160v-160H400v160Zm0 220h160v-160H400v160ZM180-400h160v-160H180v160Zm440 0h160v-160H620v160ZM180-180h160v-160H180v160Zm440 0h160v-160H620v160Z\"/>\n",
              "  </svg>\n",
              "    </button>\n",
              "    \n",
              "  <style>\n",
              "    .colab-df-container {\n",
              "      display:flex;\n",
              "      gap: 12px;\n",
              "    }\n",
              "\n",
              "    .colab-df-convert {\n",
              "      background-color: #E8F0FE;\n",
              "      border: none;\n",
              "      border-radius: 50%;\n",
              "      cursor: pointer;\n",
              "      display: none;\n",
              "      fill: #1967D2;\n",
              "      height: 32px;\n",
              "      padding: 0 0 0 0;\n",
              "      width: 32px;\n",
              "    }\n",
              "\n",
              "    .colab-df-convert:hover {\n",
              "      background-color: #E2EBFA;\n",
              "      box-shadow: 0px 1px 2px rgba(60, 64, 67, 0.3), 0px 1px 3px 1px rgba(60, 64, 67, 0.15);\n",
              "      fill: #174EA6;\n",
              "    }\n",
              "\n",
              "    .colab-df-buttons div {\n",
              "      margin-bottom: 4px;\n",
              "    }\n",
              "\n",
              "    [theme=dark] .colab-df-convert {\n",
              "      background-color: #3B4455;\n",
              "      fill: #D2E3FC;\n",
              "    }\n",
              "\n",
              "    [theme=dark] .colab-df-convert:hover {\n",
              "      background-color: #434B5C;\n",
              "      box-shadow: 0px 1px 3px 1px rgba(0, 0, 0, 0.15);\n",
              "      filter: drop-shadow(0px 1px 2px rgba(0, 0, 0, 0.3));\n",
              "      fill: #FFFFFF;\n",
              "    }\n",
              "  </style>\n",
              "\n",
              "    <script>\n",
              "      const buttonEl =\n",
              "        document.querySelector('#df-0acc8bc3-77be-4a1b-aa8a-46b83783b2b4 button.colab-df-convert');\n",
              "      buttonEl.style.display =\n",
              "        google.colab.kernel.accessAllowed ? 'block' : 'none';\n",
              "\n",
              "      async function convertToInteractive(key) {\n",
              "        const element = document.querySelector('#df-0acc8bc3-77be-4a1b-aa8a-46b83783b2b4');\n",
              "        const dataTable =\n",
              "          await google.colab.kernel.invokeFunction('convertToInteractive',\n",
              "                                                    [key], {});\n",
              "        if (!dataTable) return;\n",
              "\n",
              "        const docLinkHtml = 'Like what you see? Visit the ' +\n",
              "          '<a target=\"_blank\" href=https://colab.research.google.com/notebooks/data_table.ipynb>data table notebook</a>'\n",
              "          + ' to learn more about interactive tables.';\n",
              "        element.innerHTML = '';\n",
              "        dataTable['output_type'] = 'display_data';\n",
              "        await google.colab.output.renderOutput(dataTable, element);\n",
              "        const docLink = document.createElement('div');\n",
              "        docLink.innerHTML = docLinkHtml;\n",
              "        element.appendChild(docLink);\n",
              "      }\n",
              "    </script>\n",
              "  </div>\n",
              "  \n",
              "    </div>\n",
              "  </div>\n",
              "  "
            ]
          },
          "metadata": {},
          "execution_count": 19
        }
      ]
    },
    {
      "cell_type": "code",
      "source": [
        "#Distance DataFrame\n",
        "dist_df=pd.concat([centroid_1_dist,centroid_2_dist],axis=1)"
      ],
      "metadata": {
        "id": "9UdsBij4z2Bc"
      },
      "execution_count": 20,
      "outputs": []
    },
    {
      "cell_type": "code",
      "source": [
        "dist_df"
      ],
      "metadata": {
        "colab": {
          "base_uri": "https://localhost:8080/",
          "height": 206
        },
        "id": "t5vhjxH3z5md",
        "outputId": "05f131e3-1b78-43eb-f9fd-d3bf5c65678a"
      },
      "execution_count": 21,
      "outputs": [
        {
          "output_type": "execute_result",
          "data": {
            "text/plain": [
              "   centroid 1 to all samples  centroid 2 to all samples\n",
              "0                   0.000000                  10.392305\n",
              "1                   3.464102                   6.928203\n",
              "2                   6.928203                   3.464102\n",
              "3                  10.392305                   0.000000\n",
              "4                  13.856406                   3.464102"
            ],
            "text/html": [
              "\n",
              "  <div id=\"df-dd4506d7-0356-4a2a-8d0f-76ff5c30cb2f\" class=\"colab-df-container\">\n",
              "    <div>\n",
              "<style scoped>\n",
              "    .dataframe tbody tr th:only-of-type {\n",
              "        vertical-align: middle;\n",
              "    }\n",
              "\n",
              "    .dataframe tbody tr th {\n",
              "        vertical-align: top;\n",
              "    }\n",
              "\n",
              "    .dataframe thead th {\n",
              "        text-align: right;\n",
              "    }\n",
              "</style>\n",
              "<table border=\"1\" class=\"dataframe\">\n",
              "  <thead>\n",
              "    <tr style=\"text-align: right;\">\n",
              "      <th></th>\n",
              "      <th>centroid 1 to all samples</th>\n",
              "      <th>centroid 2 to all samples</th>\n",
              "    </tr>\n",
              "  </thead>\n",
              "  <tbody>\n",
              "    <tr>\n",
              "      <th>0</th>\n",
              "      <td>0.000000</td>\n",
              "      <td>10.392305</td>\n",
              "    </tr>\n",
              "    <tr>\n",
              "      <th>1</th>\n",
              "      <td>3.464102</td>\n",
              "      <td>6.928203</td>\n",
              "    </tr>\n",
              "    <tr>\n",
              "      <th>2</th>\n",
              "      <td>6.928203</td>\n",
              "      <td>3.464102</td>\n",
              "    </tr>\n",
              "    <tr>\n",
              "      <th>3</th>\n",
              "      <td>10.392305</td>\n",
              "      <td>0.000000</td>\n",
              "    </tr>\n",
              "    <tr>\n",
              "      <th>4</th>\n",
              "      <td>13.856406</td>\n",
              "      <td>3.464102</td>\n",
              "    </tr>\n",
              "  </tbody>\n",
              "</table>\n",
              "</div>\n",
              "    <div class=\"colab-df-buttons\">\n",
              "      \n",
              "  <div class=\"colab-df-container\">\n",
              "    <button class=\"colab-df-convert\" onclick=\"convertToInteractive('df-dd4506d7-0356-4a2a-8d0f-76ff5c30cb2f')\"\n",
              "            title=\"Convert this dataframe to an interactive table.\"\n",
              "            style=\"display:none;\">\n",
              "      \n",
              "  <svg xmlns=\"http://www.w3.org/2000/svg\" height=\"24px\" viewBox=\"0 -960 960 960\">\n",
              "    <path d=\"M120-120v-720h720v720H120Zm60-500h600v-160H180v160Zm220 220h160v-160H400v160Zm0 220h160v-160H400v160ZM180-400h160v-160H180v160Zm440 0h160v-160H620v160ZM180-180h160v-160H180v160Zm440 0h160v-160H620v160Z\"/>\n",
              "  </svg>\n",
              "    </button>\n",
              "    \n",
              "  <style>\n",
              "    .colab-df-container {\n",
              "      display:flex;\n",
              "      gap: 12px;\n",
              "    }\n",
              "\n",
              "    .colab-df-convert {\n",
              "      background-color: #E8F0FE;\n",
              "      border: none;\n",
              "      border-radius: 50%;\n",
              "      cursor: pointer;\n",
              "      display: none;\n",
              "      fill: #1967D2;\n",
              "      height: 32px;\n",
              "      padding: 0 0 0 0;\n",
              "      width: 32px;\n",
              "    }\n",
              "\n",
              "    .colab-df-convert:hover {\n",
              "      background-color: #E2EBFA;\n",
              "      box-shadow: 0px 1px 2px rgba(60, 64, 67, 0.3), 0px 1px 3px 1px rgba(60, 64, 67, 0.15);\n",
              "      fill: #174EA6;\n",
              "    }\n",
              "\n",
              "    .colab-df-buttons div {\n",
              "      margin-bottom: 4px;\n",
              "    }\n",
              "\n",
              "    [theme=dark] .colab-df-convert {\n",
              "      background-color: #3B4455;\n",
              "      fill: #D2E3FC;\n",
              "    }\n",
              "\n",
              "    [theme=dark] .colab-df-convert:hover {\n",
              "      background-color: #434B5C;\n",
              "      box-shadow: 0px 1px 3px 1px rgba(0, 0, 0, 0.15);\n",
              "      filter: drop-shadow(0px 1px 2px rgba(0, 0, 0, 0.3));\n",
              "      fill: #FFFFFF;\n",
              "    }\n",
              "  </style>\n",
              "\n",
              "    <script>\n",
              "      const buttonEl =\n",
              "        document.querySelector('#df-dd4506d7-0356-4a2a-8d0f-76ff5c30cb2f button.colab-df-convert');\n",
              "      buttonEl.style.display =\n",
              "        google.colab.kernel.accessAllowed ? 'block' : 'none';\n",
              "\n",
              "      async function convertToInteractive(key) {\n",
              "        const element = document.querySelector('#df-dd4506d7-0356-4a2a-8d0f-76ff5c30cb2f');\n",
              "        const dataTable =\n",
              "          await google.colab.kernel.invokeFunction('convertToInteractive',\n",
              "                                                    [key], {});\n",
              "        if (!dataTable) return;\n",
              "\n",
              "        const docLinkHtml = 'Like what you see? Visit the ' +\n",
              "          '<a target=\"_blank\" href=https://colab.research.google.com/notebooks/data_table.ipynb>data table notebook</a>'\n",
              "          + ' to learn more about interactive tables.';\n",
              "        element.innerHTML = '';\n",
              "        dataTable['output_type'] = 'display_data';\n",
              "        await google.colab.output.renderOutput(dataTable, element);\n",
              "        const docLink = document.createElement('div');\n",
              "        docLink.innerHTML = docLinkHtml;\n",
              "        element.appendChild(docLink);\n",
              "      }\n",
              "    </script>\n",
              "  </div>\n",
              "  \n",
              "    </div>\n",
              "  </div>\n",
              "  "
            ]
          },
          "metadata": {},
          "execution_count": 21
        }
      ]
    },
    {
      "cell_type": "markdown",
      "source": [
        "# **6.Calculate which centroid is small to corresponding samples**"
      ],
      "metadata": {
        "id": "QHCB6tnl0Fla"
      }
    },
    {
      "cell_type": "code",
      "source": [
        "For_sample_A=centroid_1 #cluster 1\n",
        "For_sample_B=centroid_1 #cluster 1\n",
        "For_sample_C=centroid_2 #cluster 2\n",
        "For_sample_D=centroid_2 #cluster 2\n",
        "For_sample_E=centroid_2 #cluster 2"
      ],
      "metadata": {
        "id": "W8C436TZz6oH"
      },
      "execution_count": 22,
      "outputs": []
    },
    {
      "cell_type": "code",
      "source": [
        "data"
      ],
      "metadata": {
        "colab": {
          "base_uri": "https://localhost:8080/",
          "height": 206
        },
        "id": "yBRY6j360Z9C",
        "outputId": "c0efbf0b-afa0-42c1-df0e-4a8c27998217"
      },
      "execution_count": 23,
      "outputs": [
        {
          "output_type": "execute_result",
          "data": {
            "text/plain": [
              "          x1  x2  x3\n",
              "Sample A   2  12  22\n",
              "Sample B   4  14  24\n",
              "Sample C   6  16  26\n",
              "Sample D   8  18  28\n",
              "Sample E  10  20  30"
            ],
            "text/html": [
              "\n",
              "  <div id=\"df-8eb01538-aaa1-47a4-8ac1-abbb4f033096\" class=\"colab-df-container\">\n",
              "    <div>\n",
              "<style scoped>\n",
              "    .dataframe tbody tr th:only-of-type {\n",
              "        vertical-align: middle;\n",
              "    }\n",
              "\n",
              "    .dataframe tbody tr th {\n",
              "        vertical-align: top;\n",
              "    }\n",
              "\n",
              "    .dataframe thead th {\n",
              "        text-align: right;\n",
              "    }\n",
              "</style>\n",
              "<table border=\"1\" class=\"dataframe\">\n",
              "  <thead>\n",
              "    <tr style=\"text-align: right;\">\n",
              "      <th></th>\n",
              "      <th>x1</th>\n",
              "      <th>x2</th>\n",
              "      <th>x3</th>\n",
              "    </tr>\n",
              "  </thead>\n",
              "  <tbody>\n",
              "    <tr>\n",
              "      <th>Sample A</th>\n",
              "      <td>2</td>\n",
              "      <td>12</td>\n",
              "      <td>22</td>\n",
              "    </tr>\n",
              "    <tr>\n",
              "      <th>Sample B</th>\n",
              "      <td>4</td>\n",
              "      <td>14</td>\n",
              "      <td>24</td>\n",
              "    </tr>\n",
              "    <tr>\n",
              "      <th>Sample C</th>\n",
              "      <td>6</td>\n",
              "      <td>16</td>\n",
              "      <td>26</td>\n",
              "    </tr>\n",
              "    <tr>\n",
              "      <th>Sample D</th>\n",
              "      <td>8</td>\n",
              "      <td>18</td>\n",
              "      <td>28</td>\n",
              "    </tr>\n",
              "    <tr>\n",
              "      <th>Sample E</th>\n",
              "      <td>10</td>\n",
              "      <td>20</td>\n",
              "      <td>30</td>\n",
              "    </tr>\n",
              "  </tbody>\n",
              "</table>\n",
              "</div>\n",
              "    <div class=\"colab-df-buttons\">\n",
              "      \n",
              "  <div class=\"colab-df-container\">\n",
              "    <button class=\"colab-df-convert\" onclick=\"convertToInteractive('df-8eb01538-aaa1-47a4-8ac1-abbb4f033096')\"\n",
              "            title=\"Convert this dataframe to an interactive table.\"\n",
              "            style=\"display:none;\">\n",
              "      \n",
              "  <svg xmlns=\"http://www.w3.org/2000/svg\" height=\"24px\" viewBox=\"0 -960 960 960\">\n",
              "    <path d=\"M120-120v-720h720v720H120Zm60-500h600v-160H180v160Zm220 220h160v-160H400v160Zm0 220h160v-160H400v160ZM180-400h160v-160H180v160Zm440 0h160v-160H620v160ZM180-180h160v-160H180v160Zm440 0h160v-160H620v160Z\"/>\n",
              "  </svg>\n",
              "    </button>\n",
              "    \n",
              "  <style>\n",
              "    .colab-df-container {\n",
              "      display:flex;\n",
              "      gap: 12px;\n",
              "    }\n",
              "\n",
              "    .colab-df-convert {\n",
              "      background-color: #E8F0FE;\n",
              "      border: none;\n",
              "      border-radius: 50%;\n",
              "      cursor: pointer;\n",
              "      display: none;\n",
              "      fill: #1967D2;\n",
              "      height: 32px;\n",
              "      padding: 0 0 0 0;\n",
              "      width: 32px;\n",
              "    }\n",
              "\n",
              "    .colab-df-convert:hover {\n",
              "      background-color: #E2EBFA;\n",
              "      box-shadow: 0px 1px 2px rgba(60, 64, 67, 0.3), 0px 1px 3px 1px rgba(60, 64, 67, 0.15);\n",
              "      fill: #174EA6;\n",
              "    }\n",
              "\n",
              "    .colab-df-buttons div {\n",
              "      margin-bottom: 4px;\n",
              "    }\n",
              "\n",
              "    [theme=dark] .colab-df-convert {\n",
              "      background-color: #3B4455;\n",
              "      fill: #D2E3FC;\n",
              "    }\n",
              "\n",
              "    [theme=dark] .colab-df-convert:hover {\n",
              "      background-color: #434B5C;\n",
              "      box-shadow: 0px 1px 3px 1px rgba(0, 0, 0, 0.15);\n",
              "      filter: drop-shadow(0px 1px 2px rgba(0, 0, 0, 0.3));\n",
              "      fill: #FFFFFF;\n",
              "    }\n",
              "  </style>\n",
              "\n",
              "    <script>\n",
              "      const buttonEl =\n",
              "        document.querySelector('#df-8eb01538-aaa1-47a4-8ac1-abbb4f033096 button.colab-df-convert');\n",
              "      buttonEl.style.display =\n",
              "        google.colab.kernel.accessAllowed ? 'block' : 'none';\n",
              "\n",
              "      async function convertToInteractive(key) {\n",
              "        const element = document.querySelector('#df-8eb01538-aaa1-47a4-8ac1-abbb4f033096');\n",
              "        const dataTable =\n",
              "          await google.colab.kernel.invokeFunction('convertToInteractive',\n",
              "                                                    [key], {});\n",
              "        if (!dataTable) return;\n",
              "\n",
              "        const docLinkHtml = 'Like what you see? Visit the ' +\n",
              "          '<a target=\"_blank\" href=https://colab.research.google.com/notebooks/data_table.ipynb>data table notebook</a>'\n",
              "          + ' to learn more about interactive tables.';\n",
              "        element.innerHTML = '';\n",
              "        dataTable['output_type'] = 'display_data';\n",
              "        await google.colab.output.renderOutput(dataTable, element);\n",
              "        const docLink = document.createElement('div');\n",
              "        docLink.innerHTML = docLinkHtml;\n",
              "        element.appendChild(docLink);\n",
              "      }\n",
              "    </script>\n",
              "  </div>\n",
              "  \n",
              "    </div>\n",
              "  </div>\n",
              "  "
            ]
          },
          "metadata": {},
          "execution_count": 23
        }
      ]
    },
    {
      "cell_type": "code",
      "source": [
        "centroid_1,centroid_2"
      ],
      "metadata": {
        "colab": {
          "base_uri": "https://localhost:8080/"
        },
        "id": "4X71QVRX06KV",
        "outputId": "269943d7-cf0a-4cf5-b799-3c3a6fde1917"
      },
      "execution_count": 24,
      "outputs": [
        {
          "output_type": "execute_result",
          "data": {
            "text/plain": [
              "(x1     2\n",
              " x2    12\n",
              " x3    22\n",
              " Name: Sample A, dtype: int64,\n",
              " x1     8\n",
              " x2    18\n",
              " x3    28\n",
              " Name: Sample D, dtype: int64)"
            ]
          },
          "metadata": {},
          "execution_count": 24
        }
      ]
    },
    {
      "cell_type": "code",
      "source": [
        "(2+4)/2,(12+14)/2,(22+24)/2 #New clusters"
      ],
      "metadata": {
        "colab": {
          "base_uri": "https://localhost:8080/"
        },
        "id": "st2Vx6AV1rjK",
        "outputId": "20e361da-de88-4b80-c0a0-b8d1696a7381"
      },
      "execution_count": 29,
      "outputs": [
        {
          "output_type": "execute_result",
          "data": {
            "text/plain": [
              "(3.0, 13.0, 23.0)"
            ]
          },
          "metadata": {},
          "execution_count": 29
        }
      ]
    },
    {
      "cell_type": "code",
      "source": [
        "(6+8+10)/3,(16+18+20)/3,(26+28+30)/3 #New clusters"
      ],
      "metadata": {
        "colab": {
          "base_uri": "https://localhost:8080/"
        },
        "id": "Fwnjf_Jk17Qw",
        "outputId": "d2ddae01-377d-451c-d5e1-b351e84b8da2"
      },
      "execution_count": 30,
      "outputs": [
        {
          "output_type": "execute_result",
          "data": {
            "text/plain": [
              "(8.0, 18.0, 28.0)"
            ]
          },
          "metadata": {},
          "execution_count": 30
        }
      ]
    },
    {
      "cell_type": "markdown",
      "source": [
        "# **Conclusion: Iteratively calculate distance , at one point, same previous cluster comes when you calculate again , need to stop that point**"
      ],
      "metadata": {
        "id": "HBxM5ZEx2i1v"
      }
    }
  ]
}