{
  "nbformat": 4,
  "nbformat_minor": 0,
  "metadata": {
    "colab": {
      "provenance": [],
      "gpuType": "T4"
    },
    "kernelspec": {
      "name": "python3",
      "display_name": "Python 3"
    },
    "language_info": {
      "name": "python"
    },
    "accelerator": "GPU"
  },
  "cells": [
    {
      "cell_type": "code",
      "source": [
        "from sklearn.feature_extraction import DictVectorizer\n",
        "from sklearn.feature_extraction.text import CountVectorizer , TfidfVectorizer"
      ],
      "metadata": {
        "id": "Dmrw-kqbR-k4"
      },
      "execution_count": 21,
      "outputs": []
    },
    {
      "cell_type": "code",
      "source": [
        "dv=DictVectorizer()\n",
        "cv=CountVectorizer()\n",
        "tv=TfidfVectorizer()"
      ],
      "metadata": {
        "id": "qAeejtM1SGl7"
      },
      "execution_count": 22,
      "outputs": []
    },
    {
      "cell_type": "code",
      "source": [
        "sentence=['Hi you are approved for loan','hi what is your name','how old are you']\n",
        "result=cv.fit_transform(sentence)\n",
        "print(result.todense())\n",
        "print(cv.vocabulary_)"
      ],
      "metadata": {
        "colab": {
          "base_uri": "https://localhost:8080/"
        },
        "id": "V_VHdhB0SLF5",
        "outputId": "98bf2d15-9549-4504-c019-f0b89b738c5d"
      },
      "execution_count": 23,
      "outputs": [
        {
          "output_type": "stream",
          "name": "stdout",
          "text": [
            "[[1 1 1 1 0 0 1 0 0 0 1 0]\n",
            " [0 0 0 1 0 1 0 1 0 1 0 1]\n",
            " [0 1 0 0 1 0 0 0 1 0 1 0]]\n",
            "{'hi': 3, 'you': 10, 'are': 1, 'approved': 0, 'for': 2, 'loan': 6, 'what': 9, 'is': 5, 'your': 11, 'name': 7, 'how': 4, 'old': 8}\n"
          ]
        }
      ]
    },
    {
      "cell_type": "code",
      "source": [
        "sentence_1=['Hi you are approved for loan','hi what is your name','how old are you']\n",
        "result=tv.fit_transform(sentence_1)\n",
        "print(result.todense())\n",
        "print(tv.vocabulary_)"
      ],
      "metadata": {
        "colab": {
          "base_uri": "https://localhost:8080/"
        },
        "id": "HUp9FoZUSjLR",
        "outputId": "94f049fd-5074-4449-f37c-9f549342403e"
      },
      "execution_count": 24,
      "outputs": [
        {
          "output_type": "stream",
          "name": "stdout",
          "text": [
            "[[0.45954803 0.34949812 0.45954803 0.34949812 0.         0.\n",
            "  0.45954803 0.         0.         0.         0.34949812 0.        ]\n",
            " [0.         0.         0.         0.35543247 0.         0.46735098\n",
            "  0.         0.46735098 0.         0.46735098 0.         0.46735098]\n",
            " [0.         0.42804604 0.         0.         0.5628291  0.\n",
            "  0.         0.         0.5628291  0.         0.42804604 0.        ]]\n",
            "{'hi': 3, 'you': 10, 'are': 1, 'approved': 0, 'for': 2, 'loan': 6, 'what': 9, 'is': 5, 'your': 11, 'name': 7, 'how': 4, 'old': 8}\n"
          ]
        }
      ]
    },
    {
      "cell_type": "code",
      "source": [
        "sentence3=[{'city':'tamilnadu'},{'city':'rjpm'}]\n",
        "result=dv.fit_transform(sentence3)\n",
        "print(result.todense())\n",
        "print(dv.vocabulary_)"
      ],
      "metadata": {
        "colab": {
          "base_uri": "https://localhost:8080/"
        },
        "id": "r7mFRDI7S54Q",
        "outputId": "7943f97f-9116-40ac-f5b8-e0dc46a80086"
      },
      "execution_count": 25,
      "outputs": [
        {
          "output_type": "stream",
          "name": "stdout",
          "text": [
            "[[0. 1.]\n",
            " [1. 0.]]\n",
            "{'city=tamilnadu': 1, 'city=rjpm': 0}\n"
          ]
        }
      ]
    }
  ]
}
