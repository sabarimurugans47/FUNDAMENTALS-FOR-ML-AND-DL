{
  "nbformat": 4,
  "nbformat_minor": 0,
  "metadata": {
    "colab": {
      "provenance": []
    },
    "kernelspec": {
      "name": "python3",
      "display_name": "Python 3"
    },
    "language_info": {
      "name": "python"
    }
  },
  "cells": [
    {
      "cell_type": "markdown",
      "source": [
        "# **MATHEMATICAS FOR ML**"
      ],
      "metadata": {
        "id": "1qh8eGitH6Wz"
      }
    },
    {
      "cell_type": "markdown",
      "source": [
        "Scalars\n",
        "\n",
        "A **scalar** is a single number with **magnitude only** and no direction.\n",
        "\n",
        "**Examples**:\n",
        "\n",
        "* Speed = 60 km/h\n",
        "* Temperature = 30°C\n",
        "\n",
        "**In Python**:\n",
        "\n",
        "```python\n",
        "scalar = 5\n",
        "```\n",
        "\n",
        "---\n",
        "\n",
        "## 🔹 Vectors\n",
        "\n",
        "A **vector** has both **magnitude** and **direction**. It's a 1D array of numbers.\n",
        "\n",
        "**Example**:\n",
        "\n",
        "$$\n",
        "\\vec{v} = [3, 4]\n",
        "$$\n",
        "\n",
        "### 🔸 Magnitude (Length) of a Vector\n",
        "\n",
        "$$\n",
        "\\|\\vec{v}\\| = \\sqrt{3^2 + 4^2} = 5\n",
        "$$\n",
        "\n",
        "**In Python**:\n",
        "\n",
        "```python\n",
        "import numpy as np\n",
        "np.linalg.norm([3, 4])  # Output: 5.0\n",
        "```\n",
        "\n",
        "---\n",
        "\n",
        "## 🔹 Matrices\n",
        "\n",
        "A **matrix** is a 2D array: rows × columns. It can hold multiple vectors or features.\n",
        "\n",
        "**Example**:\n",
        "\n",
        "$$\n",
        "\\begin{bmatrix}\n",
        "2 & 1000 \\\\\n",
        "3 & 1200 \\\\\n",
        "4 & 1400\n",
        "\\end{bmatrix}\n",
        "$$\n",
        "\n",
        "This matrix has **3 rows** (samples) and **2 columns** (features).\n",
        "\n",
        "**In Python**:\n",
        "\n",
        "```python\n",
        "X = np.array([\n",
        "    [2, 1000],\n",
        "    [3, 1200],\n",
        "    [4, 1400]\n",
        "])\n",
        "```\n",
        "\n",
        "---\n",
        "\n",
        "## 🔹 Tensors\n",
        "\n",
        "A **tensor** is a generalization of scalars, vectors, and matrices.\n",
        "\n",
        "| Type   | Dim | Example                     |\n",
        "| ------ | --- | --------------------------- |\n",
        "| Scalar | 0D  | `a = 5`                     |\n",
        "| Vector | 1D  | `v = [3, 4]`                |\n",
        "| Matrix | 2D  | `M = [[2, 3], [4, 5]]`      |\n",
        "| Tensor | 3D+ | Image tensor: `(28, 28, 3)` |\n",
        "\n",
        "**In Python**:\n",
        "\n",
        "```python\n",
        "tensor = np.random.rand(2, 3, 4)  # 3D tensor\n",
        "```\n",
        "\n",
        "---\n",
        "\n",
        "## ✅ Summary Table\n",
        "\n",
        "| Concept | Dimension | Python Example               |\n",
        "| ------- | --------- | ---------------------------- |\n",
        "| Scalar  | 0D        | `a = 5`                      |\n",
        "| Vector  | 1D        | `np.array([3, 4])`           |\n",
        "| Matrix  | 2D        | `np.array([[2, 3], [4, 5]])` |\n",
        "| Tensor  | 3D+       | `np.random.rand(2, 3, 4)`    |\n",
        "\n",
        "---\n",
        "\n",
        "## 🔸 Important Vector & Matrix Formulas\n",
        "\n",
        "| Operation        | Formula                                             | Meaning                          |\n",
        "| ---------------- | --------------------------------------------------- | -------------------------------- |\n",
        "| Magnitude        | $\\|\\vec{v}\\| = \\sqrt{x^2 + y^2 + ...}$              | Length of a vector               |\n",
        "| Addition         | $\\vec{a} + \\vec{b} = [a_1 + b_1, a_2 + b_2]$        | Add corresponding elements       |\n",
        "| Dot Product      | $\\vec{a} \\cdot \\vec{b} = \\sum a_i b_i$              | Similarity / projection          |\n",
        "| Cross Product    | Only in 3D vectors                                  | Orthogonal vector (geometry use) |\n",
        "| Transpose        | Flip rows ↔ columns                                 | $(X^T)_{ij} = X_{ji}$            |\n",
        "| Determinant      | $\\text{det} = ad - bc$ (2x2 matrix)                 | Checks if matrix is invertible   |\n",
        "| Inverse Matrix   | $A^{-1} = \\frac{1}{\\text{det}} \\cdot \\text{adj}(A)$ | Needed in linear regression      |\n",
        "| Correlation Coef | $r = \\frac{Cov(x, y)}{\\sigma_x \\sigma_y}$           | Shows similarity of 2 features   |"
      ],
      "metadata": {
        "id": "6klgXt0FK4XU"
      }
    },
    {
      "cell_type": "code",
      "execution_count": 6,
      "metadata": {
        "id": "JWoeVMc7GQSz"
      },
      "outputs": [],
      "source": [
        "import numpy as np\n",
        "rooms = np.array([2, 3, 4])\n",
        "area = np.array([1000, 1200, 1400])\n",
        "price = np.array([150, 200, 250])\n",
        "\n",
        "# Features matrix\n",
        "X = np.array([\n",
        "    [2, 1000],\n",
        "    [3, 1200],\n",
        "    [4, 1400]\n",
        "])\n",
        "\n",
        "# Weights\n",
        "w = np.array([0.05, 0.1])"
      ]
    },
    {
      "cell_type": "markdown",
      "source": [
        "# **VECTOR ADDITION AND SUBTRACTION**"
      ],
      "metadata": {
        "id": "S0XOl5cNH_L0"
      }
    },
    {
      "cell_type": "code",
      "source": [
        "# Element-wise operations\n",
        "add_result = rooms + area\n",
        "sub_result = rooms - np.array([1, 1, 1])\n",
        "\n",
        "print(\"Addition:\", add_result)\n",
        "print(\"Subtraction:\", sub_result)"
      ],
      "metadata": {
        "colab": {
          "base_uri": "https://localhost:8080/"
        },
        "id": "B35UEIgDHxlm",
        "outputId": "05bdf2d4-76b3-43dd-8e04-4e7726b381f3"
      },
      "execution_count": 8,
      "outputs": [
        {
          "output_type": "stream",
          "name": "stdout",
          "text": [
            "Addition: [1002 1203 1404]\n",
            "Subtraction: [1 2 3]\n"
          ]
        }
      ]
    },
    {
      "cell_type": "markdown",
      "source": [
        "# **DOT PRODUCT**"
      ],
      "metadata": {
        "id": "FXwtDo_gIRDh"
      }
    },
    {
      "cell_type": "code",
      "source": [
        "# Dot product between two vectors\n",
        "dot_result = np.dot(np.array([2, 1000]), w)\n",
        "print(\"Predicted price : \", dot_result)"
      ],
      "metadata": {
        "colab": {
          "base_uri": "https://localhost:8080/"
        },
        "id": "VzvN-N6wIFVr",
        "outputId": "24ef4491-9060-46a6-8903-d21b2951efd7"
      },
      "execution_count": 14,
      "outputs": [
        {
          "output_type": "stream",
          "name": "stdout",
          "text": [
            "Predicted price :  100.1\n"
          ]
        }
      ]
    },
    {
      "cell_type": "markdown",
      "source": [
        "# **TRANSPOSE**"
      ],
      "metadata": {
        "id": "9AeuEJopIttF"
      }
    },
    {
      "cell_type": "code",
      "source": [
        "X_T = X.T\n",
        "print(\"Transpose of X:\\n\", X_T)"
      ],
      "metadata": {
        "colab": {
          "base_uri": "https://localhost:8080/"
        },
        "id": "E0R-PNm9IgJk",
        "outputId": "7019eb62-525d-44be-f6dc-9652f4b9e4e0"
      },
      "execution_count": 12,
      "outputs": [
        {
          "output_type": "stream",
          "name": "stdout",
          "text": [
            "Transpose of X:\n",
            " [[   2    3    4]\n",
            " [1000 1200 1400]]\n"
          ]
        }
      ]
    },
    {
      "cell_type": "markdown",
      "source": [
        "# **MATRIX MULTIPLICATION**"
      ],
      "metadata": {
        "id": "hDzjK47xJI1M"
      }
    },
    {
      "cell_type": "code",
      "source": [
        "# Convert weights to column vector\n",
        "w_col = w.reshape(-1, 1)\n",
        "\n",
        "# Multiply X with weights to get predictions\n",
        "y_pred = X @ w_col\n",
        "print(\"Predicted Prices:\\n\", y_pred)"
      ],
      "metadata": {
        "colab": {
          "base_uri": "https://localhost:8080/"
        },
        "id": "HIULBm9hIzMY",
        "outputId": "b4fffb26-7e88-4ddc-cc55-4a73d6e80211"
      },
      "execution_count": 15,
      "outputs": [
        {
          "output_type": "stream",
          "name": "stdout",
          "text": [
            "Predicted Prices:\n",
            " [[100.1 ]\n",
            " [120.15]\n",
            " [140.2 ]]\n"
          ]
        }
      ]
    },
    {
      "cell_type": "markdown",
      "source": [
        "# **CORRELATION**"
      ],
      "metadata": {
        "id": "ikWygal0JP81"
      }
    },
    {
      "cell_type": "code",
      "source": [
        "corr = np.corrcoef(rooms, area)[0, 1]\n",
        "if corr > 0:\n",
        "    print(\"There is a positive correlation between rooms and area.\")\n",
        "elif corr < 0:\n",
        "    print(\"There is a negative correlation between rooms and area.\")\n",
        "else:\n",
        "    print(\"There is no correlation between rooms and area.\")"
      ],
      "metadata": {
        "colab": {
          "base_uri": "https://localhost:8080/"
        },
        "id": "eWzrqiSEI3qn",
        "outputId": "09ea876b-dff1-487b-9bf5-7af8158e0d5b"
      },
      "execution_count": 17,
      "outputs": [
        {
          "output_type": "stream",
          "name": "stdout",
          "text": [
            "There is a positive correlation between rooms and area.\n"
          ]
        }
      ]
    }
  ]
}
